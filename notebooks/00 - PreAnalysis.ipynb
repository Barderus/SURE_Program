{
 "cells": [
  {
   "cell_type": "code",
   "id": "initial_id",
   "metadata": {
    "collapsed": true,
    "ExecuteTime": {
     "end_time": "2025-06-17T02:55:46.857865Z",
     "start_time": "2025-06-17T02:55:45.986212Z"
    }
   },
   "source": [
    "import pandas as pd\n",
    "import glob\n",
    "import os"
   ],
   "outputs": [],
   "execution_count": 2
  },
  {
   "metadata": {
    "ExecuteTime": {
     "end_time": "2025-06-12T09:17:16.432927Z",
     "start_time": "2025-06-12T09:17:16.425163Z"
    }
   },
   "cell_type": "code",
   "source": [
    "def load_china_10y(filepath):\n",
    "    df = pd.read_excel(filepath)  # uses header row\n",
    "    df = df[[\"Date\", \"10Y\"]]\n",
    "    df.columns = [\"date\", \"10YS_CHI\"]\n",
    "    df[\"date\"] = pd.to_datetime(df[\"date\"], errors=\"coerce\")\n",
    "    df[\"10YS_CHI\"] = pd.to_numeric(df[\"10YS_CHI\"], errors=\"coerce\")\n",
    "    return df.dropna().sort_values(\"date\").reset_index(drop=True)\n"
   ],
   "id": "758adec04fd32105",
   "outputs": [],
   "execution_count": 26
  },
  {
   "metadata": {
    "ExecuteTime": {
     "end_time": "2025-06-12T09:17:17.056524Z",
     "start_time": "2025-06-12T09:17:16.881280Z"
    }
   },
   "cell_type": "code",
   "source": [
    "df = load_china_10y(\"../data/China-10YS/China10Y-2006.xlsx\")\n",
    "print(df.head())"
   ],
   "id": "b06d0387030552ec",
   "outputs": [
    {
     "name": "stdout",
     "output_type": "stream",
     "text": [
      "        date  10YS_CHI\n",
      "0 2006-03-01      2.90\n",
      "1 2006-03-02      2.90\n",
      "2 2006-03-03      2.87\n",
      "3 2006-03-06      2.93\n",
      "4 2006-03-07      2.90\n"
     ]
    },
    {
     "name": "stderr",
     "output_type": "stream",
     "text": [
      "C:\\Users\\Owner\\PycharmProjects\\SURE_Program\\.venv\\Lib\\site-packages\\openpyxl\\styles\\stylesheet.py:237: UserWarning: Workbook contains no default style, apply openpyxl's default\n",
      "  warn(\"Workbook contains no default style, apply openpyxl's default\")\n"
     ]
    }
   ],
   "execution_count": 27
  },
  {
   "metadata": {
    "ExecuteTime": {
     "end_time": "2025-06-12T09:18:35.483218Z",
     "start_time": "2025-06-12T09:18:35.474884Z"
    }
   },
   "cell_type": "code",
   "source": [
    "def load_all_china_10y(directory):\n",
    "    files = glob.glob(os.path.join(directory, \"*.xlsx\"))\n",
    "    frames = [load_china_10y(file) for file in files]\n",
    "    return pd.concat(frames).sort_values(\"date\").reset_index(drop=True)"
   ],
   "id": "dea2613110e99d90",
   "outputs": [],
   "execution_count": 30
  },
  {
   "metadata": {
    "ExecuteTime": {
     "end_time": "2025-06-12T09:18:38.686475Z",
     "start_time": "2025-06-12T09:18:36.016333Z"
    }
   },
   "cell_type": "code",
   "source": "df = load_all_china_10y(\"../data/China-10YS\")",
   "id": "7de9049c7b331d0c",
   "outputs": [
    {
     "name": "stderr",
     "output_type": "stream",
     "text": [
      "C:\\Users\\Owner\\PycharmProjects\\SURE_Program\\.venv\\Lib\\site-packages\\openpyxl\\styles\\stylesheet.py:237: UserWarning: Workbook contains no default style, apply openpyxl's default\n",
      "  warn(\"Workbook contains no default style, apply openpyxl's default\")\n",
      "C:\\Users\\Owner\\PycharmProjects\\SURE_Program\\.venv\\Lib\\site-packages\\openpyxl\\styles\\stylesheet.py:237: UserWarning: Workbook contains no default style, apply openpyxl's default\n",
      "  warn(\"Workbook contains no default style, apply openpyxl's default\")\n",
      "C:\\Users\\Owner\\PycharmProjects\\SURE_Program\\.venv\\Lib\\site-packages\\openpyxl\\styles\\stylesheet.py:237: UserWarning: Workbook contains no default style, apply openpyxl's default\n",
      "  warn(\"Workbook contains no default style, apply openpyxl's default\")\n",
      "C:\\Users\\Owner\\PycharmProjects\\SURE_Program\\.venv\\Lib\\site-packages\\openpyxl\\styles\\stylesheet.py:237: UserWarning: Workbook contains no default style, apply openpyxl's default\n",
      "  warn(\"Workbook contains no default style, apply openpyxl's default\")\n",
      "C:\\Users\\Owner\\PycharmProjects\\SURE_Program\\.venv\\Lib\\site-packages\\openpyxl\\styles\\stylesheet.py:237: UserWarning: Workbook contains no default style, apply openpyxl's default\n",
      "  warn(\"Workbook contains no default style, apply openpyxl's default\")\n",
      "C:\\Users\\Owner\\PycharmProjects\\SURE_Program\\.venv\\Lib\\site-packages\\openpyxl\\styles\\stylesheet.py:237: UserWarning: Workbook contains no default style, apply openpyxl's default\n",
      "  warn(\"Workbook contains no default style, apply openpyxl's default\")\n",
      "C:\\Users\\Owner\\PycharmProjects\\SURE_Program\\.venv\\Lib\\site-packages\\openpyxl\\styles\\stylesheet.py:237: UserWarning: Workbook contains no default style, apply openpyxl's default\n",
      "  warn(\"Workbook contains no default style, apply openpyxl's default\")\n",
      "C:\\Users\\Owner\\PycharmProjects\\SURE_Program\\.venv\\Lib\\site-packages\\openpyxl\\styles\\stylesheet.py:237: UserWarning: Workbook contains no default style, apply openpyxl's default\n",
      "  warn(\"Workbook contains no default style, apply openpyxl's default\")\n",
      "C:\\Users\\Owner\\PycharmProjects\\SURE_Program\\.venv\\Lib\\site-packages\\openpyxl\\styles\\stylesheet.py:237: UserWarning: Workbook contains no default style, apply openpyxl's default\n",
      "  warn(\"Workbook contains no default style, apply openpyxl's default\")\n",
      "C:\\Users\\Owner\\PycharmProjects\\SURE_Program\\.venv\\Lib\\site-packages\\openpyxl\\styles\\stylesheet.py:237: UserWarning: Workbook contains no default style, apply openpyxl's default\n",
      "  warn(\"Workbook contains no default style, apply openpyxl's default\")\n",
      "C:\\Users\\Owner\\PycharmProjects\\SURE_Program\\.venv\\Lib\\site-packages\\openpyxl\\styles\\stylesheet.py:237: UserWarning: Workbook contains no default style, apply openpyxl's default\n",
      "  warn(\"Workbook contains no default style, apply openpyxl's default\")\n",
      "C:\\Users\\Owner\\PycharmProjects\\SURE_Program\\.venv\\Lib\\site-packages\\openpyxl\\styles\\stylesheet.py:237: UserWarning: Workbook contains no default style, apply openpyxl's default\n",
      "  warn(\"Workbook contains no default style, apply openpyxl's default\")\n",
      "C:\\Users\\Owner\\PycharmProjects\\SURE_Program\\.venv\\Lib\\site-packages\\openpyxl\\styles\\stylesheet.py:237: UserWarning: Workbook contains no default style, apply openpyxl's default\n",
      "  warn(\"Workbook contains no default style, apply openpyxl's default\")\n",
      "C:\\Users\\Owner\\PycharmProjects\\SURE_Program\\.venv\\Lib\\site-packages\\openpyxl\\styles\\stylesheet.py:237: UserWarning: Workbook contains no default style, apply openpyxl's default\n",
      "  warn(\"Workbook contains no default style, apply openpyxl's default\")\n",
      "C:\\Users\\Owner\\PycharmProjects\\SURE_Program\\.venv\\Lib\\site-packages\\openpyxl\\styles\\stylesheet.py:237: UserWarning: Workbook contains no default style, apply openpyxl's default\n",
      "  warn(\"Workbook contains no default style, apply openpyxl's default\")\n",
      "C:\\Users\\Owner\\PycharmProjects\\SURE_Program\\.venv\\Lib\\site-packages\\openpyxl\\styles\\stylesheet.py:237: UserWarning: Workbook contains no default style, apply openpyxl's default\n",
      "  warn(\"Workbook contains no default style, apply openpyxl's default\")\n",
      "C:\\Users\\Owner\\PycharmProjects\\SURE_Program\\.venv\\Lib\\site-packages\\openpyxl\\styles\\stylesheet.py:237: UserWarning: Workbook contains no default style, apply openpyxl's default\n",
      "  warn(\"Workbook contains no default style, apply openpyxl's default\")\n",
      "C:\\Users\\Owner\\PycharmProjects\\SURE_Program\\.venv\\Lib\\site-packages\\openpyxl\\styles\\stylesheet.py:237: UserWarning: Workbook contains no default style, apply openpyxl's default\n",
      "  warn(\"Workbook contains no default style, apply openpyxl's default\")\n",
      "C:\\Users\\Owner\\PycharmProjects\\SURE_Program\\.venv\\Lib\\site-packages\\openpyxl\\styles\\stylesheet.py:237: UserWarning: Workbook contains no default style, apply openpyxl's default\n",
      "  warn(\"Workbook contains no default style, apply openpyxl's default\")\n",
      "C:\\Users\\Owner\\PycharmProjects\\SURE_Program\\.venv\\Lib\\site-packages\\openpyxl\\styles\\stylesheet.py:237: UserWarning: Workbook contains no default style, apply openpyxl's default\n",
      "  warn(\"Workbook contains no default style, apply openpyxl's default\")\n"
     ]
    }
   ],
   "execution_count": 31
  },
  {
   "metadata": {
    "ExecuteTime": {
     "end_time": "2025-06-12T09:20:05.466220Z",
     "start_time": "2025-06-12T09:20:05.442130Z"
    }
   },
   "cell_type": "code",
   "source": [
    "output_path = \"../data/raw/10YS_CHI.csv\"\n",
    "df.to_csv(output_path, index=False)"
   ],
   "id": "815e601673ebf80d",
   "outputs": [],
   "execution_count": 34
  },
  {
   "metadata": {
    "ExecuteTime": {
     "end_time": "2025-06-12T10:19:28.171166Z",
     "start_time": "2025-06-12T10:19:28.147912Z"
    }
   },
   "cell_type": "code",
   "source": "df = pd.read_csv(\"../data/raw/spread/yield_data_full.csv\")",
   "id": "86fbffc7ef2aa4fa",
   "outputs": [],
   "execution_count": 40
  },
  {
   "metadata": {
    "ExecuteTime": {
     "end_time": "2025-06-12T10:19:28.702707Z",
     "start_time": "2025-06-12T10:19:28.684896Z"
    }
   },
   "cell_type": "code",
   "source": "df.info()",
   "id": "7700d9efdc42ea7f",
   "outputs": [
    {
     "name": "stdout",
     "output_type": "stream",
     "text": [
      "<class 'pandas.core.frame.DataFrame'>\n",
      "RangeIndex: 9827 entries, 0 to 9826\n",
      "Data columns (total 12 columns):\n",
      " #   Column    Non-Null Count  Dtype  \n",
      "---  ------    --------------  -----  \n",
      " 0   date      9827 non-null   object \n",
      " 1   10YS_USA  8866 non-null   float64\n",
      " 2   2Y_USA    8866 non-null   float64\n",
      " 3   10YS_CAN  424 non-null    float64\n",
      " 4   10YS_GER  424 non-null    float64\n",
      " 5   10Y_JAP   424 non-null    float64\n",
      " 6   10YS_MEX  222 non-null    float64\n",
      " 7   2YS_MEX   389 non-null    float64\n",
      " 8   2YS_CAN   245 non-null    float64\n",
      " 9   2YS_GER   665 non-null    float64\n",
      " 10  2YS_CHI   276 non-null    float64\n",
      " 11  10YS_CHI  4045 non-null   float64\n",
      "dtypes: float64(11), object(1)\n",
      "memory usage: 921.4+ KB\n"
     ]
    }
   ],
   "execution_count": 41
  },
  {
   "metadata": {
    "ExecuteTime": {
     "end_time": "2025-06-12T10:20:22.198118Z",
     "start_time": "2025-06-12T10:20:22.186184Z"
    }
   },
   "cell_type": "code",
   "source": "print(df[\"2YS_MEX\"].describe())",
   "id": "3c96148c367e1d76",
   "outputs": [
    {
     "name": "stdout",
     "output_type": "stream",
     "text": [
      "count    389.000000\n",
      "mean      11.241851\n",
      "std        8.264691\n",
      "min        3.010000\n",
      "25%        5.130000\n",
      "50%        8.080000\n",
      "75%       15.270000\n",
      "max       48.020000\n",
      "Name: 2YS_MEX, dtype: float64\n"
     ]
    }
   ],
   "execution_count": 45
  },
  {
   "metadata": {
    "ExecuteTime": {
     "end_time": "2025-06-12T10:39:44.340390Z",
     "start_time": "2025-06-12T10:39:44.330696Z"
    }
   },
   "cell_type": "code",
   "source": [
    "GER_df = df[[\"date\", \"10YS_GER\", \"2YS_GER\"]].rename(\n",
    "    columns={\"10YS_GER\": \"10YS_price\", \"2YS_GER\": \"2YS_price\"}\n",
    ")"
   ],
   "id": "5d7e189dc44915a3",
   "outputs": [],
   "execution_count": 48
  },
  {
   "metadata": {
    "ExecuteTime": {
     "end_time": "2025-06-12T10:39:44.805177Z",
     "start_time": "2025-06-12T10:39:44.790527Z"
    }
   },
   "cell_type": "code",
   "source": "GER_df",
   "id": "f67007624d1a45c",
   "outputs": [
    {
     "data": {
      "text/plain": [
       "            date  10YS_price  2YS_price\n",
       "0     1970-01-31         NaN      7.616\n",
       "1     1970-02-28         NaN      7.656\n",
       "2     1970-03-31         NaN      8.216\n",
       "3     1970-04-30         NaN      8.016\n",
       "4     1970-05-31         NaN      8.306\n",
       "...          ...         ...        ...\n",
       "9822  2025-06-04         NaN        NaN\n",
       "9823  2025-06-05         NaN        NaN\n",
       "9824  2025-06-06         NaN        NaN\n",
       "9825  2025-06-09         NaN        NaN\n",
       "9826  2025-06-10         NaN        NaN\n",
       "\n",
       "[9827 rows x 3 columns]"
      ],
      "text/html": [
       "<div>\n",
       "<style scoped>\n",
       "    .dataframe tbody tr th:only-of-type {\n",
       "        vertical-align: middle;\n",
       "    }\n",
       "\n",
       "    .dataframe tbody tr th {\n",
       "        vertical-align: top;\n",
       "    }\n",
       "\n",
       "    .dataframe thead th {\n",
       "        text-align: right;\n",
       "    }\n",
       "</style>\n",
       "<table border=\"1\" class=\"dataframe\">\n",
       "  <thead>\n",
       "    <tr style=\"text-align: right;\">\n",
       "      <th></th>\n",
       "      <th>date</th>\n",
       "      <th>10YS_price</th>\n",
       "      <th>2YS_price</th>\n",
       "    </tr>\n",
       "  </thead>\n",
       "  <tbody>\n",
       "    <tr>\n",
       "      <th>0</th>\n",
       "      <td>1970-01-31</td>\n",
       "      <td>NaN</td>\n",
       "      <td>7.616</td>\n",
       "    </tr>\n",
       "    <tr>\n",
       "      <th>1</th>\n",
       "      <td>1970-02-28</td>\n",
       "      <td>NaN</td>\n",
       "      <td>7.656</td>\n",
       "    </tr>\n",
       "    <tr>\n",
       "      <th>2</th>\n",
       "      <td>1970-03-31</td>\n",
       "      <td>NaN</td>\n",
       "      <td>8.216</td>\n",
       "    </tr>\n",
       "    <tr>\n",
       "      <th>3</th>\n",
       "      <td>1970-04-30</td>\n",
       "      <td>NaN</td>\n",
       "      <td>8.016</td>\n",
       "    </tr>\n",
       "    <tr>\n",
       "      <th>4</th>\n",
       "      <td>1970-05-31</td>\n",
       "      <td>NaN</td>\n",
       "      <td>8.306</td>\n",
       "    </tr>\n",
       "    <tr>\n",
       "      <th>...</th>\n",
       "      <td>...</td>\n",
       "      <td>...</td>\n",
       "      <td>...</td>\n",
       "    </tr>\n",
       "    <tr>\n",
       "      <th>9822</th>\n",
       "      <td>2025-06-04</td>\n",
       "      <td>NaN</td>\n",
       "      <td>NaN</td>\n",
       "    </tr>\n",
       "    <tr>\n",
       "      <th>9823</th>\n",
       "      <td>2025-06-05</td>\n",
       "      <td>NaN</td>\n",
       "      <td>NaN</td>\n",
       "    </tr>\n",
       "    <tr>\n",
       "      <th>9824</th>\n",
       "      <td>2025-06-06</td>\n",
       "      <td>NaN</td>\n",
       "      <td>NaN</td>\n",
       "    </tr>\n",
       "    <tr>\n",
       "      <th>9825</th>\n",
       "      <td>2025-06-09</td>\n",
       "      <td>NaN</td>\n",
       "      <td>NaN</td>\n",
       "    </tr>\n",
       "    <tr>\n",
       "      <th>9826</th>\n",
       "      <td>2025-06-10</td>\n",
       "      <td>NaN</td>\n",
       "      <td>NaN</td>\n",
       "    </tr>\n",
       "  </tbody>\n",
       "</table>\n",
       "<p>9827 rows × 3 columns</p>\n",
       "</div>"
      ]
     },
     "execution_count": 49,
     "metadata": {},
     "output_type": "execute_result"
    }
   ],
   "execution_count": 49
  },
  {
   "metadata": {
    "ExecuteTime": {
     "end_time": "2025-06-12T11:23:36.311717Z",
     "start_time": "2025-06-12T11:23:36.301568Z"
    }
   },
   "cell_type": "code",
   "source": "df = pd.read_csv(\"../data/raw/spread/GER_yields.csv\")",
   "id": "c29fe6dee6abca8b",
   "outputs": [],
   "execution_count": 57
  },
  {
   "metadata": {
    "ExecuteTime": {
     "end_time": "2025-06-12T11:23:36.804415Z",
     "start_time": "2025-06-12T11:23:36.792464Z"
    }
   },
   "cell_type": "code",
   "source": "df",
   "id": "4c9a4db212755af",
   "outputs": [
    {
     "data": {
      "text/plain": [
       "           date  10YS_GER  2YS_GER\n",
       "0    1970-01-01       NaN   7.6160\n",
       "1    1970-02-01       NaN   7.6560\n",
       "2    1970-03-01       NaN   8.2160\n",
       "3    1970-04-01       NaN   8.0160\n",
       "4    1970-05-01       NaN   8.3060\n",
       "..          ...       ...      ...\n",
       "660  2025-01-01  2.483636   2.3808\n",
       "661  2025-02-01  2.405500   2.2262\n",
       "662  2025-03-01  2.741429   2.2791\n",
       "663  2025-04-01  2.514737   1.9471\n",
       "664  2025-05-01       NaN   1.9517\n",
       "\n",
       "[665 rows x 3 columns]"
      ],
      "text/html": [
       "<div>\n",
       "<style scoped>\n",
       "    .dataframe tbody tr th:only-of-type {\n",
       "        vertical-align: middle;\n",
       "    }\n",
       "\n",
       "    .dataframe tbody tr th {\n",
       "        vertical-align: top;\n",
       "    }\n",
       "\n",
       "    .dataframe thead th {\n",
       "        text-align: right;\n",
       "    }\n",
       "</style>\n",
       "<table border=\"1\" class=\"dataframe\">\n",
       "  <thead>\n",
       "    <tr style=\"text-align: right;\">\n",
       "      <th></th>\n",
       "      <th>date</th>\n",
       "      <th>10YS_GER</th>\n",
       "      <th>2YS_GER</th>\n",
       "    </tr>\n",
       "  </thead>\n",
       "  <tbody>\n",
       "    <tr>\n",
       "      <th>0</th>\n",
       "      <td>1970-01-01</td>\n",
       "      <td>NaN</td>\n",
       "      <td>7.6160</td>\n",
       "    </tr>\n",
       "    <tr>\n",
       "      <th>1</th>\n",
       "      <td>1970-02-01</td>\n",
       "      <td>NaN</td>\n",
       "      <td>7.6560</td>\n",
       "    </tr>\n",
       "    <tr>\n",
       "      <th>2</th>\n",
       "      <td>1970-03-01</td>\n",
       "      <td>NaN</td>\n",
       "      <td>8.2160</td>\n",
       "    </tr>\n",
       "    <tr>\n",
       "      <th>3</th>\n",
       "      <td>1970-04-01</td>\n",
       "      <td>NaN</td>\n",
       "      <td>8.0160</td>\n",
       "    </tr>\n",
       "    <tr>\n",
       "      <th>4</th>\n",
       "      <td>1970-05-01</td>\n",
       "      <td>NaN</td>\n",
       "      <td>8.3060</td>\n",
       "    </tr>\n",
       "    <tr>\n",
       "      <th>...</th>\n",
       "      <td>...</td>\n",
       "      <td>...</td>\n",
       "      <td>...</td>\n",
       "    </tr>\n",
       "    <tr>\n",
       "      <th>660</th>\n",
       "      <td>2025-01-01</td>\n",
       "      <td>2.483636</td>\n",
       "      <td>2.3808</td>\n",
       "    </tr>\n",
       "    <tr>\n",
       "      <th>661</th>\n",
       "      <td>2025-02-01</td>\n",
       "      <td>2.405500</td>\n",
       "      <td>2.2262</td>\n",
       "    </tr>\n",
       "    <tr>\n",
       "      <th>662</th>\n",
       "      <td>2025-03-01</td>\n",
       "      <td>2.741429</td>\n",
       "      <td>2.2791</td>\n",
       "    </tr>\n",
       "    <tr>\n",
       "      <th>663</th>\n",
       "      <td>2025-04-01</td>\n",
       "      <td>2.514737</td>\n",
       "      <td>1.9471</td>\n",
       "    </tr>\n",
       "    <tr>\n",
       "      <th>664</th>\n",
       "      <td>2025-05-01</td>\n",
       "      <td>NaN</td>\n",
       "      <td>1.9517</td>\n",
       "    </tr>\n",
       "  </tbody>\n",
       "</table>\n",
       "<p>665 rows × 3 columns</p>\n",
       "</div>"
      ]
     },
     "execution_count": 58,
     "metadata": {},
     "output_type": "execute_result"
    }
   ],
   "execution_count": 58
  },
  {
   "metadata": {
    "ExecuteTime": {
     "end_time": "2025-06-12T11:46:27.057662Z",
     "start_time": "2025-06-12T11:46:27.046269Z"
    }
   },
   "cell_type": "code",
   "source": "df = pd.read_csv(\"../data/raw/CCI_OECD.csv\")",
   "id": "f9e416b45c510394",
   "outputs": [],
   "execution_count": 59
  },
  {
   "metadata": {
    "ExecuteTime": {
     "end_time": "2025-06-12T11:46:31.034706Z",
     "start_time": "2025-06-12T11:46:31.028293Z"
    }
   },
   "cell_type": "code",
   "source": "df.columns",
   "id": "688e8bd091a52e60",
   "outputs": [
    {
     "data": {
      "text/plain": [
       "Index(['date',\n",
       "       'OECD Standardised CCI, Amplitude adjusted (Long term average=100), sa – China (People's Republic of) – Monthly (OECD/MEI_CLI/CSCICP03.CHN.M)',\n",
       "       'OECD Standardised CCI, Amplitude adjusted (Long term average=100), sa – Germany – Monthly (OECD/MEI_CLI/CSCICP03.DEU.M)',\n",
       "       'OECD Standardised CCI, Amplitude adjusted (Long term average=100), sa – Japan – Monthly (OECD/MEI_CLI/CSCICP03.JPN.M)',\n",
       "       'OECD Standardised CCI, Amplitude adjusted (Long term average=100), sa – Mexico – Monthly (OECD/MEI_CLI/CSCICP03.MEX.M)',\n",
       "       'OECD Standardised CCI, Amplitude adjusted (Long term average=100), sa – United States – Monthly (OECD/MEI_CLI/CSCICP03.USA.M)'],\n",
       "      dtype='object')"
      ]
     },
     "execution_count": 60,
     "metadata": {},
     "output_type": "execute_result"
    }
   ],
   "execution_count": 60
  },
  {
   "metadata": {
    "ExecuteTime": {
     "end_time": "2025-06-12T11:49:18.668246Z",
     "start_time": "2025-06-12T11:49:18.661501Z"
    }
   },
   "cell_type": "code",
   "source": [
    "df.rename(columns={\"OECD Standardised CCI, Amplitude adjusted (Long term average=100), sa – China (People's Republic of) – Monthly (OECD/MEI_CLI/CSCICP03.CHN.M)\":\"CCI_CHI\",\n",
    "                   \"OECD Standardised CCI, Amplitude adjusted (Long term average=100), sa – Germany – Monthly (OECD/MEI_CLI/CSCICP03.DEU.M)\":\"CCI_GER\",\n",
    "                   \"OECD Standardised CCI, Amplitude adjusted (Long term average=100), sa – Japan – Monthly (OECD/MEI_CLI/CSCICP03.JPN.M)\":\"CCI_JAP\",\n",
    "                   \"OECD Standardised CCI, Amplitude adjusted (Long term average=100), sa – Mexico – Monthly (OECD/MEI_CLI/CSCICP03.MEX.M)\":\"CCI_MEX\",\n",
    "                   \"OECD Standardised CCI, Amplitude adjusted (Long term average=100), sa – United States – Monthly (OECD/MEI_CLI/CSCICP03.USA.M)\":\"CCI_USA\",}, inplace=True)"
   ],
   "id": "712da7f7c66df6f8",
   "outputs": [],
   "execution_count": 65
  },
  {
   "metadata": {
    "ExecuteTime": {
     "end_time": "2025-06-12T11:49:21.649840Z",
     "start_time": "2025-06-12T11:49:21.637176Z"
    }
   },
   "cell_type": "code",
   "source": "df[\"date\"] = pd.to_datetime(df[\"date\"], errors=\"coerce\")",
   "id": "70f45ec310a90788",
   "outputs": [],
   "execution_count": 66
  },
  {
   "metadata": {
    "ExecuteTime": {
     "end_time": "2025-06-12T11:49:22.018289Z",
     "start_time": "2025-06-12T11:49:22.006900Z"
    }
   },
   "cell_type": "code",
   "source": "df.info()",
   "id": "f46abe6aec4b63ba",
   "outputs": [
    {
     "name": "stdout",
     "output_type": "stream",
     "text": [
      "<class 'pandas.core.frame.DataFrame'>\n",
      "RangeIndex: 768 entries, 0 to 767\n",
      "Data columns (total 6 columns):\n",
      " #   Column   Non-Null Count  Dtype         \n",
      "---  ------   --------------  -----         \n",
      " 0   date     768 non-null    datetime64[ns]\n",
      " 1   CCI_CHI  407 non-null    float64       \n",
      " 2   CCI_GER  612 non-null    float64       \n",
      " 3   CCI_JAP  501 non-null    float64       \n",
      " 4   CCI_MEX  273 non-null    float64       \n",
      " 5   CCI_USA  768 non-null    float64       \n",
      "dtypes: datetime64[ns](1), float64(5)\n",
      "memory usage: 36.1 KB\n"
     ]
    }
   ],
   "execution_count": 67
  },
  {
   "metadata": {
    "ExecuteTime": {
     "end_time": "2025-06-12T11:49:49.958110Z",
     "start_time": "2025-06-12T11:49:49.931886Z"
    }
   },
   "cell_type": "code",
   "source": "df.to_csv(\"../data/raw/CCI_OECD.csv\")",
   "id": "56b9ff193ec7167",
   "outputs": [],
   "execution_count": 68
  },
  {
   "metadata": {
    "ExecuteTime": {
     "end_time": "2025-06-13T11:34:45.100855Z",
     "start_time": "2025-06-13T11:34:45.060098Z"
    }
   },
   "cell_type": "code",
   "source": "df = pd.read_csv(\"../data/raw/canada_combined_fred_data_06-12-2025.csv\")",
   "id": "ec23f82aeebf4688",
   "outputs": [],
   "execution_count": 2
  },
  {
   "metadata": {
    "ExecuteTime": {
     "end_time": "2025-06-13T11:34:48.305843Z",
     "start_time": "2025-06-13T11:34:48.293039Z"
    }
   },
   "cell_type": "code",
   "source": "df.columns",
   "id": "410f4ffa1292a235",
   "outputs": [
    {
     "data": {
      "text/plain": [
       "Index(['date', 'EPU_CAN', 'IP_CAN', '10YS_CAN', 'INF_CAN', 'EX_CAN', 'IM_CAN',\n",
       "       'RECESS_CAN', 'GDP_CAN', 'GDPC_CAN', 'GBR_CAN', 'EXR_CAN', 'CCI_CAN',\n",
       "       'Unemployment_Rate'],\n",
       "      dtype='object')"
      ]
     },
     "execution_count": 3,
     "metadata": {},
     "output_type": "execute_result"
    }
   ],
   "execution_count": 3
  },
  {
   "metadata": {
    "ExecuteTime": {
     "end_time": "2025-06-13T11:38:23.121922Z",
     "start_time": "2025-06-13T11:38:23.080548Z"
    }
   },
   "cell_type": "code",
   "source": "df.rename(columns={\"Unemployment_Rate\":\"UNEM_CAN\"})",
   "id": "824f71bd7c09bb1b",
   "outputs": [
    {
     "data": {
      "text/plain": [
       "             date  EPU_CAN  IP_CAN  10YS_CAN  INF_CAN  EX_CAN  IM_CAN  \\\n",
       "0      1944-01-01      NaN     NaN       NaN      NaN     NaN     NaN   \n",
       "1      1944-02-01      NaN     NaN       NaN      NaN     NaN     NaN   \n",
       "2      1944-03-01      NaN     NaN       NaN      NaN     NaN     NaN   \n",
       "3      1944-04-01      NaN     NaN       NaN      NaN     NaN     NaN   \n",
       "4      1944-05-01      NaN     NaN       NaN      NaN     NaN     NaN   \n",
       "...           ...      ...     ...       ...      ...     ...     ...   \n",
       "14706  2025-06-02      NaN     NaN       NaN      NaN     NaN     NaN   \n",
       "14707  2025-06-03      NaN     NaN       NaN      NaN     NaN     NaN   \n",
       "14708  2025-06-04      NaN     NaN       NaN      NaN     NaN     NaN   \n",
       "14709  2025-06-05      NaN     NaN       NaN      NaN     NaN     NaN   \n",
       "14710  2025-06-06      NaN     NaN       NaN      NaN     NaN     NaN   \n",
       "\n",
       "       RECESS_CAN  GDP_CAN  GDPC_CAN  GBR_CAN  EXR_CAN  CCI_CAN  UNEM_CAN  \n",
       "0             NaN      NaN       NaN      NaN      NaN      NaN       NaN  \n",
       "1             NaN      NaN       NaN      NaN      NaN      NaN       NaN  \n",
       "2             NaN      NaN       NaN      NaN      NaN      NaN       NaN  \n",
       "3             NaN      NaN       NaN      NaN      NaN      NaN       NaN  \n",
       "4             NaN      NaN       NaN      NaN      NaN      NaN       NaN  \n",
       "...           ...      ...       ...      ...      ...      ...       ...  \n",
       "14706         NaN      NaN       NaN      NaN   1.3699      NaN       NaN  \n",
       "14707         NaN      NaN       NaN      NaN   1.3722      NaN       NaN  \n",
       "14708         NaN      NaN       NaN      NaN   1.3668      NaN       NaN  \n",
       "14709         NaN      NaN       NaN      NaN   1.3667      NaN       NaN  \n",
       "14710         NaN      NaN       NaN      NaN   1.3686      NaN       NaN  \n",
       "\n",
       "[14711 rows x 14 columns]"
      ],
      "text/html": [
       "<div>\n",
       "<style scoped>\n",
       "    .dataframe tbody tr th:only-of-type {\n",
       "        vertical-align: middle;\n",
       "    }\n",
       "\n",
       "    .dataframe tbody tr th {\n",
       "        vertical-align: top;\n",
       "    }\n",
       "\n",
       "    .dataframe thead th {\n",
       "        text-align: right;\n",
       "    }\n",
       "</style>\n",
       "<table border=\"1\" class=\"dataframe\">\n",
       "  <thead>\n",
       "    <tr style=\"text-align: right;\">\n",
       "      <th></th>\n",
       "      <th>date</th>\n",
       "      <th>EPU_CAN</th>\n",
       "      <th>IP_CAN</th>\n",
       "      <th>10YS_CAN</th>\n",
       "      <th>INF_CAN</th>\n",
       "      <th>EX_CAN</th>\n",
       "      <th>IM_CAN</th>\n",
       "      <th>RECESS_CAN</th>\n",
       "      <th>GDP_CAN</th>\n",
       "      <th>GDPC_CAN</th>\n",
       "      <th>GBR_CAN</th>\n",
       "      <th>EXR_CAN</th>\n",
       "      <th>CCI_CAN</th>\n",
       "      <th>UNEM_CAN</th>\n",
       "    </tr>\n",
       "  </thead>\n",
       "  <tbody>\n",
       "    <tr>\n",
       "      <th>0</th>\n",
       "      <td>1944-01-01</td>\n",
       "      <td>NaN</td>\n",
       "      <td>NaN</td>\n",
       "      <td>NaN</td>\n",
       "      <td>NaN</td>\n",
       "      <td>NaN</td>\n",
       "      <td>NaN</td>\n",
       "      <td>NaN</td>\n",
       "      <td>NaN</td>\n",
       "      <td>NaN</td>\n",
       "      <td>NaN</td>\n",
       "      <td>NaN</td>\n",
       "      <td>NaN</td>\n",
       "      <td>NaN</td>\n",
       "    </tr>\n",
       "    <tr>\n",
       "      <th>1</th>\n",
       "      <td>1944-02-01</td>\n",
       "      <td>NaN</td>\n",
       "      <td>NaN</td>\n",
       "      <td>NaN</td>\n",
       "      <td>NaN</td>\n",
       "      <td>NaN</td>\n",
       "      <td>NaN</td>\n",
       "      <td>NaN</td>\n",
       "      <td>NaN</td>\n",
       "      <td>NaN</td>\n",
       "      <td>NaN</td>\n",
       "      <td>NaN</td>\n",
       "      <td>NaN</td>\n",
       "      <td>NaN</td>\n",
       "    </tr>\n",
       "    <tr>\n",
       "      <th>2</th>\n",
       "      <td>1944-03-01</td>\n",
       "      <td>NaN</td>\n",
       "      <td>NaN</td>\n",
       "      <td>NaN</td>\n",
       "      <td>NaN</td>\n",
       "      <td>NaN</td>\n",
       "      <td>NaN</td>\n",
       "      <td>NaN</td>\n",
       "      <td>NaN</td>\n",
       "      <td>NaN</td>\n",
       "      <td>NaN</td>\n",
       "      <td>NaN</td>\n",
       "      <td>NaN</td>\n",
       "      <td>NaN</td>\n",
       "    </tr>\n",
       "    <tr>\n",
       "      <th>3</th>\n",
       "      <td>1944-04-01</td>\n",
       "      <td>NaN</td>\n",
       "      <td>NaN</td>\n",
       "      <td>NaN</td>\n",
       "      <td>NaN</td>\n",
       "      <td>NaN</td>\n",
       "      <td>NaN</td>\n",
       "      <td>NaN</td>\n",
       "      <td>NaN</td>\n",
       "      <td>NaN</td>\n",
       "      <td>NaN</td>\n",
       "      <td>NaN</td>\n",
       "      <td>NaN</td>\n",
       "      <td>NaN</td>\n",
       "    </tr>\n",
       "    <tr>\n",
       "      <th>4</th>\n",
       "      <td>1944-05-01</td>\n",
       "      <td>NaN</td>\n",
       "      <td>NaN</td>\n",
       "      <td>NaN</td>\n",
       "      <td>NaN</td>\n",
       "      <td>NaN</td>\n",
       "      <td>NaN</td>\n",
       "      <td>NaN</td>\n",
       "      <td>NaN</td>\n",
       "      <td>NaN</td>\n",
       "      <td>NaN</td>\n",
       "      <td>NaN</td>\n",
       "      <td>NaN</td>\n",
       "      <td>NaN</td>\n",
       "    </tr>\n",
       "    <tr>\n",
       "      <th>...</th>\n",
       "      <td>...</td>\n",
       "      <td>...</td>\n",
       "      <td>...</td>\n",
       "      <td>...</td>\n",
       "      <td>...</td>\n",
       "      <td>...</td>\n",
       "      <td>...</td>\n",
       "      <td>...</td>\n",
       "      <td>...</td>\n",
       "      <td>...</td>\n",
       "      <td>...</td>\n",
       "      <td>...</td>\n",
       "      <td>...</td>\n",
       "      <td>...</td>\n",
       "    </tr>\n",
       "    <tr>\n",
       "      <th>14706</th>\n",
       "      <td>2025-06-02</td>\n",
       "      <td>NaN</td>\n",
       "      <td>NaN</td>\n",
       "      <td>NaN</td>\n",
       "      <td>NaN</td>\n",
       "      <td>NaN</td>\n",
       "      <td>NaN</td>\n",
       "      <td>NaN</td>\n",
       "      <td>NaN</td>\n",
       "      <td>NaN</td>\n",
       "      <td>NaN</td>\n",
       "      <td>1.3699</td>\n",
       "      <td>NaN</td>\n",
       "      <td>NaN</td>\n",
       "    </tr>\n",
       "    <tr>\n",
       "      <th>14707</th>\n",
       "      <td>2025-06-03</td>\n",
       "      <td>NaN</td>\n",
       "      <td>NaN</td>\n",
       "      <td>NaN</td>\n",
       "      <td>NaN</td>\n",
       "      <td>NaN</td>\n",
       "      <td>NaN</td>\n",
       "      <td>NaN</td>\n",
       "      <td>NaN</td>\n",
       "      <td>NaN</td>\n",
       "      <td>NaN</td>\n",
       "      <td>1.3722</td>\n",
       "      <td>NaN</td>\n",
       "      <td>NaN</td>\n",
       "    </tr>\n",
       "    <tr>\n",
       "      <th>14708</th>\n",
       "      <td>2025-06-04</td>\n",
       "      <td>NaN</td>\n",
       "      <td>NaN</td>\n",
       "      <td>NaN</td>\n",
       "      <td>NaN</td>\n",
       "      <td>NaN</td>\n",
       "      <td>NaN</td>\n",
       "      <td>NaN</td>\n",
       "      <td>NaN</td>\n",
       "      <td>NaN</td>\n",
       "      <td>NaN</td>\n",
       "      <td>1.3668</td>\n",
       "      <td>NaN</td>\n",
       "      <td>NaN</td>\n",
       "    </tr>\n",
       "    <tr>\n",
       "      <th>14709</th>\n",
       "      <td>2025-06-05</td>\n",
       "      <td>NaN</td>\n",
       "      <td>NaN</td>\n",
       "      <td>NaN</td>\n",
       "      <td>NaN</td>\n",
       "      <td>NaN</td>\n",
       "      <td>NaN</td>\n",
       "      <td>NaN</td>\n",
       "      <td>NaN</td>\n",
       "      <td>NaN</td>\n",
       "      <td>NaN</td>\n",
       "      <td>1.3667</td>\n",
       "      <td>NaN</td>\n",
       "      <td>NaN</td>\n",
       "    </tr>\n",
       "    <tr>\n",
       "      <th>14710</th>\n",
       "      <td>2025-06-06</td>\n",
       "      <td>NaN</td>\n",
       "      <td>NaN</td>\n",
       "      <td>NaN</td>\n",
       "      <td>NaN</td>\n",
       "      <td>NaN</td>\n",
       "      <td>NaN</td>\n",
       "      <td>NaN</td>\n",
       "      <td>NaN</td>\n",
       "      <td>NaN</td>\n",
       "      <td>NaN</td>\n",
       "      <td>1.3686</td>\n",
       "      <td>NaN</td>\n",
       "      <td>NaN</td>\n",
       "    </tr>\n",
       "  </tbody>\n",
       "</table>\n",
       "<p>14711 rows × 14 columns</p>\n",
       "</div>"
      ]
     },
     "execution_count": 4,
     "metadata": {},
     "output_type": "execute_result"
    }
   ],
   "execution_count": 4
  },
  {
   "metadata": {
    "ExecuteTime": {
     "end_time": "2025-06-13T11:39:07.650258Z",
     "start_time": "2025-06-13T11:39:07.471276Z"
    }
   },
   "cell_type": "code",
   "source": "df.to_csv(\"../data/raw/canada_combined_fred_data_06-12-2025.csv\")",
   "id": "a8b00c538e708a7d",
   "outputs": [],
   "execution_count": 5
  },
  {
   "metadata": {
    "ExecuteTime": {
     "end_time": "2025-06-13T11:40:03.291223Z",
     "start_time": "2025-06-13T11:40:03.261742Z"
    }
   },
   "cell_type": "code",
   "source": "df = pd.read_csv(\"../data/raw/china_combined_data_06-12-2025.csv\")",
   "id": "aa1283cc2de04dab",
   "outputs": [],
   "execution_count": 7
  },
  {
   "metadata": {
    "ExecuteTime": {
     "end_time": "2025-06-13T11:40:07.859208Z",
     "start_time": "2025-06-13T11:40:07.847664Z"
    }
   },
   "cell_type": "code",
   "source": "df.columns",
   "id": "3704654959ebede9",
   "outputs": [
    {
     "data": {
      "text/plain": [
       "Index(['date', 'EPU_CHI', 'IP_CHI', 'INF_CHI', 'IM_CHI', 'EX_CHI', 'TB_CHI',\n",
       "       'RECESS_CHI', 'GDP_CHI', '10YS_CHI', 'EXR_CHI', 'UNEMP_CHI',\n",
       "       'GDPC_CHI'],\n",
       "      dtype='object')"
      ]
     },
     "execution_count": 8,
     "metadata": {},
     "output_type": "execute_result"
    }
   ],
   "execution_count": 8
  },
  {
   "metadata": {
    "ExecuteTime": {
     "end_time": "2025-06-13T23:58:19.887396Z",
     "start_time": "2025-06-13T23:58:19.862790Z"
    }
   },
   "cell_type": "code",
   "source": "df = pd.read_csv(\"../data/raw/mexico_combined_data_06-13-2025.csv\")",
   "id": "6c945e6b9b98da89",
   "outputs": [],
   "execution_count": 10
  },
  {
   "metadata": {
    "ExecuteTime": {
     "end_time": "2025-06-13T23:58:23.781631Z",
     "start_time": "2025-06-13T23:58:23.774456Z"
    }
   },
   "cell_type": "code",
   "source": "df.columns",
   "id": "79e2c083457a1a8e",
   "outputs": [
    {
     "data": {
      "text/plain": [
       "Index(['date', 'EPU_MEX', 'IP_MEX', 'INF_MEX', 'GDP_MEX', '2YS_MEX',\n",
       "       '1OYS_MEX', 'EXR_MEX', 'UNEMP_MEX', 'GDPC_MEX', 'EX_MEX', 'IM_MEX',\n",
       "       'EX_MEX.1', 'RECESS_MEX', 'UNEMP_MEX+', 'GDPC_MEX+'],\n",
       "      dtype='object')"
      ]
     },
     "execution_count": 11,
     "metadata": {},
     "output_type": "execute_result"
    }
   ],
   "execution_count": 11
  },
  {
   "metadata": {
    "ExecuteTime": {
     "end_time": "2025-06-14T00:01:30.604692Z",
     "start_time": "2025-06-14T00:01:30.579496Z"
    }
   },
   "cell_type": "code",
   "source": "df[~df[\"RECESS_MEX\"].isna()]",
   "id": "8e436d0e5556c511",
   "outputs": [
    {
     "data": {
      "text/plain": [
       "            date  EPU_MEX  IP_MEX  INF_MEX  GDP_MEX  2YS_MEX  1OYS_MEX  \\\n",
       "35    1960-02-29      NaN     NaN      NaN      NaN      NaN       NaN   \n",
       "36    1960-03-31      NaN     NaN      NaN      NaN      NaN       NaN   \n",
       "38    1960-04-30      NaN     NaN      NaN      NaN      NaN       NaN   \n",
       "39    1960-05-31      NaN     NaN      NaN      NaN      NaN       NaN   \n",
       "40    1960-06-30      NaN     NaN      NaN      NaN      NaN       NaN   \n",
       "...          ...      ...     ...      ...      ...      ...       ...   \n",
       "1368  2022-04-30      NaN     NaN      NaN      NaN      NaN       NaN   \n",
       "1370  2022-05-31      NaN     NaN      NaN      NaN      NaN       NaN   \n",
       "1372  2022-06-30      NaN     NaN      NaN      NaN      NaN       NaN   \n",
       "1374  2022-07-31      NaN     NaN      NaN      NaN      NaN       NaN   \n",
       "1376  2022-08-31      NaN     NaN      NaN      NaN      NaN       NaN   \n",
       "\n",
       "      EXR_MEX  UNEMP_MEX  GDPC_MEX  EX_MEX  IM_MEX  EX_MEX.1  RECESS_MEX  \\\n",
       "35        NaN        NaN       NaN     NaN     NaN       NaN         1.0   \n",
       "36        NaN        NaN       NaN     NaN     NaN       NaN         1.0   \n",
       "38        NaN        NaN       NaN     NaN     NaN       NaN         1.0   \n",
       "39        NaN        NaN       NaN     NaN     NaN       NaN         1.0   \n",
       "40        NaN        NaN       NaN     NaN     NaN       NaN         1.0   \n",
       "...       ...        ...       ...     ...     ...       ...         ...   \n",
       "1368      NaN        NaN       NaN     NaN     NaN       NaN         0.0   \n",
       "1370      NaN        NaN       NaN     NaN     NaN       NaN         0.0   \n",
       "1372      NaN        NaN       NaN     NaN     NaN       NaN         0.0   \n",
       "1374      NaN        NaN       NaN     NaN     NaN       NaN         0.0   \n",
       "1376      NaN        NaN       NaN     NaN     NaN       NaN         0.0   \n",
       "\n",
       "      UNEMP_MEX+  GDPC_MEX+  \n",
       "35           NaN        NaN  \n",
       "36           NaN        NaN  \n",
       "38           NaN        NaN  \n",
       "39           NaN        NaN  \n",
       "40           NaN        NaN  \n",
       "...          ...        ...  \n",
       "1368         NaN        NaN  \n",
       "1370         NaN        NaN  \n",
       "1372         NaN        NaN  \n",
       "1374         NaN        NaN  \n",
       "1376         NaN        NaN  \n",
       "\n",
       "[751 rows x 16 columns]"
      ],
      "text/html": [
       "<div>\n",
       "<style scoped>\n",
       "    .dataframe tbody tr th:only-of-type {\n",
       "        vertical-align: middle;\n",
       "    }\n",
       "\n",
       "    .dataframe tbody tr th {\n",
       "        vertical-align: top;\n",
       "    }\n",
       "\n",
       "    .dataframe thead th {\n",
       "        text-align: right;\n",
       "    }\n",
       "</style>\n",
       "<table border=\"1\" class=\"dataframe\">\n",
       "  <thead>\n",
       "    <tr style=\"text-align: right;\">\n",
       "      <th></th>\n",
       "      <th>date</th>\n",
       "      <th>EPU_MEX</th>\n",
       "      <th>IP_MEX</th>\n",
       "      <th>INF_MEX</th>\n",
       "      <th>GDP_MEX</th>\n",
       "      <th>2YS_MEX</th>\n",
       "      <th>1OYS_MEX</th>\n",
       "      <th>EXR_MEX</th>\n",
       "      <th>UNEMP_MEX</th>\n",
       "      <th>GDPC_MEX</th>\n",
       "      <th>EX_MEX</th>\n",
       "      <th>IM_MEX</th>\n",
       "      <th>EX_MEX.1</th>\n",
       "      <th>RECESS_MEX</th>\n",
       "      <th>UNEMP_MEX+</th>\n",
       "      <th>GDPC_MEX+</th>\n",
       "    </tr>\n",
       "  </thead>\n",
       "  <tbody>\n",
       "    <tr>\n",
       "      <th>35</th>\n",
       "      <td>1960-02-29</td>\n",
       "      <td>NaN</td>\n",
       "      <td>NaN</td>\n",
       "      <td>NaN</td>\n",
       "      <td>NaN</td>\n",
       "      <td>NaN</td>\n",
       "      <td>NaN</td>\n",
       "      <td>NaN</td>\n",
       "      <td>NaN</td>\n",
       "      <td>NaN</td>\n",
       "      <td>NaN</td>\n",
       "      <td>NaN</td>\n",
       "      <td>NaN</td>\n",
       "      <td>1.0</td>\n",
       "      <td>NaN</td>\n",
       "      <td>NaN</td>\n",
       "    </tr>\n",
       "    <tr>\n",
       "      <th>36</th>\n",
       "      <td>1960-03-31</td>\n",
       "      <td>NaN</td>\n",
       "      <td>NaN</td>\n",
       "      <td>NaN</td>\n",
       "      <td>NaN</td>\n",
       "      <td>NaN</td>\n",
       "      <td>NaN</td>\n",
       "      <td>NaN</td>\n",
       "      <td>NaN</td>\n",
       "      <td>NaN</td>\n",
       "      <td>NaN</td>\n",
       "      <td>NaN</td>\n",
       "      <td>NaN</td>\n",
       "      <td>1.0</td>\n",
       "      <td>NaN</td>\n",
       "      <td>NaN</td>\n",
       "    </tr>\n",
       "    <tr>\n",
       "      <th>38</th>\n",
       "      <td>1960-04-30</td>\n",
       "      <td>NaN</td>\n",
       "      <td>NaN</td>\n",
       "      <td>NaN</td>\n",
       "      <td>NaN</td>\n",
       "      <td>NaN</td>\n",
       "      <td>NaN</td>\n",
       "      <td>NaN</td>\n",
       "      <td>NaN</td>\n",
       "      <td>NaN</td>\n",
       "      <td>NaN</td>\n",
       "      <td>NaN</td>\n",
       "      <td>NaN</td>\n",
       "      <td>1.0</td>\n",
       "      <td>NaN</td>\n",
       "      <td>NaN</td>\n",
       "    </tr>\n",
       "    <tr>\n",
       "      <th>39</th>\n",
       "      <td>1960-05-31</td>\n",
       "      <td>NaN</td>\n",
       "      <td>NaN</td>\n",
       "      <td>NaN</td>\n",
       "      <td>NaN</td>\n",
       "      <td>NaN</td>\n",
       "      <td>NaN</td>\n",
       "      <td>NaN</td>\n",
       "      <td>NaN</td>\n",
       "      <td>NaN</td>\n",
       "      <td>NaN</td>\n",
       "      <td>NaN</td>\n",
       "      <td>NaN</td>\n",
       "      <td>1.0</td>\n",
       "      <td>NaN</td>\n",
       "      <td>NaN</td>\n",
       "    </tr>\n",
       "    <tr>\n",
       "      <th>40</th>\n",
       "      <td>1960-06-30</td>\n",
       "      <td>NaN</td>\n",
       "      <td>NaN</td>\n",
       "      <td>NaN</td>\n",
       "      <td>NaN</td>\n",
       "      <td>NaN</td>\n",
       "      <td>NaN</td>\n",
       "      <td>NaN</td>\n",
       "      <td>NaN</td>\n",
       "      <td>NaN</td>\n",
       "      <td>NaN</td>\n",
       "      <td>NaN</td>\n",
       "      <td>NaN</td>\n",
       "      <td>1.0</td>\n",
       "      <td>NaN</td>\n",
       "      <td>NaN</td>\n",
       "    </tr>\n",
       "    <tr>\n",
       "      <th>...</th>\n",
       "      <td>...</td>\n",
       "      <td>...</td>\n",
       "      <td>...</td>\n",
       "      <td>...</td>\n",
       "      <td>...</td>\n",
       "      <td>...</td>\n",
       "      <td>...</td>\n",
       "      <td>...</td>\n",
       "      <td>...</td>\n",
       "      <td>...</td>\n",
       "      <td>...</td>\n",
       "      <td>...</td>\n",
       "      <td>...</td>\n",
       "      <td>...</td>\n",
       "      <td>...</td>\n",
       "      <td>...</td>\n",
       "    </tr>\n",
       "    <tr>\n",
       "      <th>1368</th>\n",
       "      <td>2022-04-30</td>\n",
       "      <td>NaN</td>\n",
       "      <td>NaN</td>\n",
       "      <td>NaN</td>\n",
       "      <td>NaN</td>\n",
       "      <td>NaN</td>\n",
       "      <td>NaN</td>\n",
       "      <td>NaN</td>\n",
       "      <td>NaN</td>\n",
       "      <td>NaN</td>\n",
       "      <td>NaN</td>\n",
       "      <td>NaN</td>\n",
       "      <td>NaN</td>\n",
       "      <td>0.0</td>\n",
       "      <td>NaN</td>\n",
       "      <td>NaN</td>\n",
       "    </tr>\n",
       "    <tr>\n",
       "      <th>1370</th>\n",
       "      <td>2022-05-31</td>\n",
       "      <td>NaN</td>\n",
       "      <td>NaN</td>\n",
       "      <td>NaN</td>\n",
       "      <td>NaN</td>\n",
       "      <td>NaN</td>\n",
       "      <td>NaN</td>\n",
       "      <td>NaN</td>\n",
       "      <td>NaN</td>\n",
       "      <td>NaN</td>\n",
       "      <td>NaN</td>\n",
       "      <td>NaN</td>\n",
       "      <td>NaN</td>\n",
       "      <td>0.0</td>\n",
       "      <td>NaN</td>\n",
       "      <td>NaN</td>\n",
       "    </tr>\n",
       "    <tr>\n",
       "      <th>1372</th>\n",
       "      <td>2022-06-30</td>\n",
       "      <td>NaN</td>\n",
       "      <td>NaN</td>\n",
       "      <td>NaN</td>\n",
       "      <td>NaN</td>\n",
       "      <td>NaN</td>\n",
       "      <td>NaN</td>\n",
       "      <td>NaN</td>\n",
       "      <td>NaN</td>\n",
       "      <td>NaN</td>\n",
       "      <td>NaN</td>\n",
       "      <td>NaN</td>\n",
       "      <td>NaN</td>\n",
       "      <td>0.0</td>\n",
       "      <td>NaN</td>\n",
       "      <td>NaN</td>\n",
       "    </tr>\n",
       "    <tr>\n",
       "      <th>1374</th>\n",
       "      <td>2022-07-31</td>\n",
       "      <td>NaN</td>\n",
       "      <td>NaN</td>\n",
       "      <td>NaN</td>\n",
       "      <td>NaN</td>\n",
       "      <td>NaN</td>\n",
       "      <td>NaN</td>\n",
       "      <td>NaN</td>\n",
       "      <td>NaN</td>\n",
       "      <td>NaN</td>\n",
       "      <td>NaN</td>\n",
       "      <td>NaN</td>\n",
       "      <td>NaN</td>\n",
       "      <td>0.0</td>\n",
       "      <td>NaN</td>\n",
       "      <td>NaN</td>\n",
       "    </tr>\n",
       "    <tr>\n",
       "      <th>1376</th>\n",
       "      <td>2022-08-31</td>\n",
       "      <td>NaN</td>\n",
       "      <td>NaN</td>\n",
       "      <td>NaN</td>\n",
       "      <td>NaN</td>\n",
       "      <td>NaN</td>\n",
       "      <td>NaN</td>\n",
       "      <td>NaN</td>\n",
       "      <td>NaN</td>\n",
       "      <td>NaN</td>\n",
       "      <td>NaN</td>\n",
       "      <td>NaN</td>\n",
       "      <td>NaN</td>\n",
       "      <td>0.0</td>\n",
       "      <td>NaN</td>\n",
       "      <td>NaN</td>\n",
       "    </tr>\n",
       "  </tbody>\n",
       "</table>\n",
       "<p>751 rows × 16 columns</p>\n",
       "</div>"
      ]
     },
     "execution_count": 20,
     "metadata": {},
     "output_type": "execute_result"
    }
   ],
   "execution_count": 20
  },
  {
   "metadata": {
    "ExecuteTime": {
     "end_time": "2025-06-17T02:57:18.790387Z",
     "start_time": "2025-06-17T02:57:18.775950Z"
    }
   },
   "cell_type": "code",
   "source": "df = pd.read_csv(\"../data/raw/CCI_OECD.csv\")",
   "id": "6bdd9cd881fe39d4",
   "outputs": [],
   "execution_count": 9
  },
  {
   "metadata": {
    "ExecuteTime": {
     "end_time": "2025-06-17T02:57:19.199896Z",
     "start_time": "2025-06-17T02:57:19.192418Z"
    }
   },
   "cell_type": "code",
   "source": "df.drop(columns=[\"CCI_USA\", \"Unnamed: 0\"], inplace=True)",
   "id": "bed4a1073deb398",
   "outputs": [],
   "execution_count": 10
  },
  {
   "metadata": {
    "ExecuteTime": {
     "end_time": "2025-06-17T02:57:19.715688Z",
     "start_time": "2025-06-17T02:57:19.694616Z"
    }
   },
   "cell_type": "code",
   "source": "df.to_csv(\"../data/raw/CCI_OECD.csv\")",
   "id": "64016a3b35ac1da6",
   "outputs": [],
   "execution_count": 11
  },
  {
   "metadata": {},
   "cell_type": "code",
   "outputs": [],
   "execution_count": null,
   "source": "",
   "id": "e14460583feebc6"
  }
 ],
 "metadata": {
  "kernelspec": {
   "display_name": "Python 3",
   "language": "python",
   "name": "python3"
  },
  "language_info": {
   "codemirror_mode": {
    "name": "ipython",
    "version": 2
   },
   "file_extension": ".py",
   "mimetype": "text/x-python",
   "name": "python",
   "nbconvert_exporter": "python",
   "pygments_lexer": "ipython2",
   "version": "2.7.6"
  }
 },
 "nbformat": 4,
 "nbformat_minor": 5
}
