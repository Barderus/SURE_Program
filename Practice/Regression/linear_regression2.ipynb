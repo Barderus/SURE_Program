{
 "cells": [
  {
   "metadata": {},
   "cell_type": "code",
   "outputs": [],
   "execution_count": null,
   "source": [
    "import numpy as np\n",
    "import pandas as pd\n",
    "import matplotlib.pyplot as plt\n",
    "import seaborn as sns\n",
    "from sklearn.linear_model import LinearRegression\n",
    "from sklearn.datasets import fetch_california_housing\n",
    "from sklearn.model_selection import train_test_split\n",
    "from sklearn.preprocessing import StandardScaler\n",
    "from sklearn.metrics import mean_squared_error, r2_score"
   ],
   "id": "eb4536439fa3e25c"
  },
  {
   "metadata": {},
   "cell_type": "code",
   "outputs": [],
   "execution_count": null,
   "source": "housing = fetch_california_housing()",
   "id": "bebabebc08b75683"
  },
  {
   "metadata": {},
   "cell_type": "code",
   "outputs": [],
   "execution_count": null,
   "source": "print(housing.data.shape, housing.target.shape)",
   "id": "bc2f1b734c871d1c"
  },
  {
   "metadata": {},
   "cell_type": "code",
   "outputs": [],
   "execution_count": null,
   "source": [
    "df = pd.DataFrame(housing.data, columns=housing.feature_names)\n",
    "df['MedHouseValue'] = housing.target"
   ],
   "id": "94b7224cff05ab65"
  },
  {
   "metadata": {},
   "cell_type": "code",
   "outputs": [],
   "execution_count": null,
   "source": "df.info()",
   "id": "8f08b12e687b3c3f"
  },
  {
   "metadata": {},
   "cell_type": "code",
   "outputs": [],
   "execution_count": null,
   "source": "df.head()",
   "id": "2d4000d83e560e00"
  },
  {
   "metadata": {},
   "cell_type": "code",
   "outputs": [],
   "execution_count": null,
   "source": "df.describe()",
   "id": "e97b1da0f801f0a0"
  },
  {
   "metadata": {},
   "cell_type": "code",
   "outputs": [],
   "execution_count": null,
   "source": "df.columns",
   "id": "e9cd481f4114728"
  },
  {
   "metadata": {},
   "cell_type": "code",
   "outputs": [],
   "execution_count": null,
   "source": [
    "# Visualize the data\n",
    "plt.scatter(df.AveBedrms, df.MedHouseValue)\n",
    "plt.xlabel(\"X\")\n",
    "plt.ylabel(\"y\")\n",
    "plt.title(\"Average Bedrooms x MedHouseValue\")\n",
    "plt.show()"
   ],
   "id": "dd83ff3289e07c00"
  },
  {
   "metadata": {},
   "cell_type": "code",
   "outputs": [],
   "execution_count": null,
   "source": [
    "# Visualize the data\n",
    "plt.scatter(df.AveRooms, df.MedHouseValue)\n",
    "plt.xlabel(\"X\")\n",
    "plt.ylabel(\"y\")\n",
    "plt.title(\"Average Rooms x MedHouseValue\")\n",
    "plt.show()"
   ],
   "id": "9be833e65f86de76"
  },
  {
   "metadata": {},
   "cell_type": "code",
   "outputs": [],
   "execution_count": null,
   "source": [
    "# Visualize the data\n",
    "plt.scatter(df.HouseAge, df.MedHouseValue)\n",
    "plt.xlabel(\"X\")\n",
    "plt.ylabel(\"y\")\n",
    "plt.title(\"House Age x MedHouseValue\")\n",
    "plt.show()"
   ],
   "id": "42a3f6778a896e5e"
  },
  {
   "metadata": {},
   "cell_type": "code",
   "outputs": [],
   "execution_count": null,
   "source": "df.isnull().sum()",
   "id": "eae4307a5b767a7c"
  },
  {
   "metadata": {},
   "cell_type": "code",
   "outputs": [],
   "execution_count": null,
   "source": [
    "model = LinearRegression()\n",
    "X = df.drop(\"MedHouseValue\", axis=1).copy()\n",
    "y = df[\"MedHouseValue\"]"
   ],
   "id": "283dd597fd2fa474"
  },
  {
   "metadata": {},
   "cell_type": "code",
   "outputs": [],
   "execution_count": null,
   "source": "X_train, X_test, y_train, y_test = train_test_split(X,y, test_size=0.2, random_state=42)",
   "id": "4995c7a1ebbb23e"
  },
  {
   "metadata": {},
   "cell_type": "code",
   "outputs": [],
   "execution_count": null,
   "source": "model.fit(X_train, y_train)",
   "id": "29ec0ae8bfccac4"
  },
  {
   "metadata": {},
   "cell_type": "code",
   "outputs": [],
   "execution_count": null,
   "source": "y_pred = model.predict(X_test)",
   "id": "ddadd3e522103feb"
  },
  {
   "metadata": {},
   "cell_type": "code",
   "outputs": [],
   "execution_count": null,
   "source": [
    "# Metrics\n",
    "mse = mean_squared_error(y_test, y_pred)\n",
    "r2 = r2_score(y_test, y_pred)\n",
    "\n",
    "print(f\"Mean Squared Error: {mse:.2f}\")\n",
    "print(f\"R-squared: {r2:.2f}\")"
   ],
   "id": "9ee1588f499b1694"
  },
  {
   "metadata": {},
   "cell_type": "code",
   "outputs": [],
   "execution_count": null,
   "source": [
    "plt.scatter(y_test, y_pred, alpha=0.5)\n",
    "plt.xlabel(\"Actual Median House Value\")\n",
    "plt.ylabel(\"Predicted Median House Value\")\n",
    "plt.title(\"Predicted vs Actual Values\")\n",
    "plt.plot([y_test.min(), y_test.max()], [y_test.min(), y_test.max()], 'r--')\n",
    "plt.show()"
   ],
   "id": "407323fcc52bd559"
  },
  {
   "metadata": {},
   "cell_type": "markdown",
   "source": "Train it in respect of only one column",
   "id": "ecdd0f10827a66a"
  },
  {
   "metadata": {},
   "cell_type": "code",
   "outputs": [],
   "execution_count": null,
   "source": [
    "model1 = LinearRegression()\n",
    "X1 = X.drop(\"MedInc\", axis=1)"
   ],
   "id": "a60e5ad6658138b0"
  },
  {
   "metadata": {},
   "cell_type": "code",
   "outputs": [],
   "execution_count": null,
   "source": "X_train1, X_test1, y_train1, y_test1 = train_test_split(X1,y, test_size=0.2, random_state=42)",
   "id": "1c341e6fee38ea60"
  },
  {
   "metadata": {},
   "cell_type": "code",
   "outputs": [],
   "execution_count": null,
   "source": "model1.fit(X_train1, y_train1)",
   "id": "363f8b58c0948eed"
  },
  {
   "metadata": {},
   "cell_type": "code",
   "outputs": [],
   "execution_count": null,
   "source": "y_pred1 = model1.predict(X_test1)",
   "id": "55c50a0ab42feac5"
  },
  {
   "metadata": {},
   "cell_type": "code",
   "outputs": [],
   "execution_count": null,
   "source": [
    "# Metrics\n",
    "mse1 = mean_squared_error(y_test1, y_pred1)\n",
    "r21 = r2_score(y_test1, y_pred1)\n",
    "\n",
    "print(f\"Mean Squared Error: {mse1:.2f}\")\n",
    "print(f\"R-squared: {r21:.2f}\")"
   ],
   "id": "58f69acaeb8d0362"
  }
 ],
 "metadata": {},
 "nbformat": 5,
 "nbformat_minor": 9
}
